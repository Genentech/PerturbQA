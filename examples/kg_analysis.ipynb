{
 "cells": [
  {
   "cell_type": "markdown",
   "id": "640a5976-c0a4-4544-9008-edbd90467f13",
   "metadata": {},
   "source": [
    "# Analyzing graph distance and coverage\n",
    "\n",
    "Figure 2D and \"Physical\" baseline in Table 1."
   ]
  },
  {
   "cell_type": "code",
   "execution_count": 1,
   "id": "ec5389b9-9920-443a-9b44-12ec98a44a64",
   "metadata": {},
   "outputs": [],
   "source": [
    "import os\n",
    "import json\n",
    "import pickle\n",
    "\n",
    "from tqdm import tqdm\n",
    "\n",
    "import numpy as np\n",
    "import pandas as pd\n",
    "import networkx as nx\n",
    "\n",
    "from sklearn.metrics import roc_auc_score"
   ]
  },
  {
   "cell_type": "code",
   "execution_count": 2,
   "id": "71136d45-0485-46c7-b2c8-38cca92818da",
   "metadata": {},
   "outputs": [],
   "source": [
    "def get_pairs(fp):\n",
    "    df = pd.read_csv(fp)\n",
    "    df = df[df[\"split\"] == \"test\"]\n",
    "    pert = df[\"pert\"]\n",
    "    gene = df[\"gene\"]\n",
    "    label = df[\"label\"]\n",
    "    pairs = zip(pert, gene)\n",
    "    return list(pairs), label.tolist()"
   ]
  },
  {
   "cell_type": "code",
   "execution_count": 3,
   "id": "36fa97b3-0332-4b70-81b1-d21ea6355c45",
   "metadata": {},
   "outputs": [],
   "source": [
    "cell_lines = [\"k562\", \"rpe1\", \"hepg2\", \"jurkat\"]\n",
    "all_pairs = {}\n",
    "all_labels = {}\n",
    "for cl in cell_lines:\n",
    "    fp = f\"../perturbqa/datasets/{cl}-de.csv\"\n",
    "    pairs, labels = get_pairs(fp)\n",
    "    all_pairs[cl] = pairs\n",
    "    all_labels[cl] = labels"
   ]
  },
  {
   "cell_type": "markdown",
   "id": "91cd89e4-4ab8-4dc0-9c88-a424b62c8982",
   "metadata": {},
   "source": [
    "## KG connectivity"
   ]
  },
  {
   "cell_type": "code",
   "execution_count": 4,
   "id": "51659070-9727-4a4d-852b-3df3d0455a67",
   "metadata": {},
   "outputs": [],
   "source": [
    "def load_graph(fp):\n",
    "    with open(fp) as f:\n",
    "        g = json.load(f)\n",
    "    return g"
   ]
  },
  {
   "cell_type": "code",
   "execution_count": 5,
   "id": "a1591e72-f09f-424c-b163-de46a942850f",
   "metadata": {},
   "outputs": [
    {
     "name": "stdout",
     "output_type": "stream",
     "text": [
      "Graph with 80043 nodes and 495273 edges Graph with 18479 nodes and 752612 edges\n"
     ]
    }
   ],
   "source": [
    "pathway_graph = nx.Graph()\n",
    "gene_graph = nx.Graph()\n",
    "\n",
    "bad = [\"GO:0005515\", \"GO:0003674\"]  # \"protein binding\" ...\n",
    "\n",
    "for name in [\"string\", \"corum\", \"go\", \"reactome\"]:\n",
    "    fp = f\"../perturbqa/datasets/kg/{name}.json\"\n",
    "    gene2rel = load_graph(fp)\n",
    "    if len(gene2rel) <= 3:\n",
    "        graph = pathway_graph\n",
    "        gene2rel = gene2rel[0]\n",
    "    else:\n",
    "        graph = gene_graph\n",
    "    # add to big graph\n",
    "    for gene, edges in gene2rel.items():\n",
    "        for node2, _ in edges:\n",
    "            if node2 in bad:\n",
    "                continue\n",
    "            graph.add_edge(gene, node2)\n",
    "\n",
    "go2go = load_graph(\"../perturbqa/datasets/kg/go.json\")[2]\n",
    "for node1, edges in go2go.items():\n",
    "    if node1 in bad:\n",
    "        continue\n",
    "    for node2, _ in edges:\n",
    "        if node2 in bad:\n",
    "            continue\n",
    "        pathway_graph.add_edge(node1, node2)\n",
    "\n",
    "print(pathway_graph, gene_graph)"
   ]
  },
  {
   "cell_type": "code",
   "execution_count": 6,
   "id": "fe2bf144-993f-44fc-a502-09cc8c84be2b",
   "metadata": {},
   "outputs": [],
   "source": [
    "to_delete = []\n",
    "large = []\n",
    "for node in pathway_graph:\n",
    "    if nx.degree(pathway_graph, node) >= 1000:\n",
    "        to_delete.append(node)\n",
    "    elif nx.degree(pathway_graph, node) >= 500:\n",
    "        large.append((node, nx.degree(pathway_graph, node)))\n",
    "\n",
    "for node in to_delete:\n",
    "    pathway_graph.remove_node(node)"
   ]
  },
  {
   "cell_type": "code",
   "execution_count": 7,
   "id": "e979191b-8681-446f-b273-d24e230826a7",
   "metadata": {},
   "outputs": [],
   "source": [
    "with open(\"../perturbqa/datasets/kg/go_dict.json\") as f:\n",
    "    go_dict = json.load(f)"
   ]
  },
  {
   "cell_type": "code",
   "execution_count": 8,
   "id": "ecb1b4d5-b53f-475e-a3b7-155fc9ca309d",
   "metadata": {},
   "outputs": [
    {
     "data": {
      "text/plain": [
       "[('innate immune response', 519),\n",
       " ('intracellular membrane-bounded organelle', 901),\n",
       " ('calcium ion binding', 720),\n",
       " ('centrosome', 647),\n",
       " ('G protein-coupled receptor activity', 742),\n",
       " ('G protein-coupled receptor signaling pathway', 961),\n",
       " ('synapse', 500),\n",
       " ('DNA binding', 983),\n",
       " ('positive regulation of cell population proliferation', 510),\n",
       " ('negative regulation of DNA-templated transcription', 572),\n",
       " ('protein homodimerization activity', 726),\n",
       " ('Golgi membrane', 691),\n",
       " ('proteolysis', 513),\n",
       " ('cell differentiation', 670),\n",
       " ('regulation of DNA-templated transcription', 569),\n",
       " ('biological_process', 593),\n",
       " ('nucleolus', 946),\n",
       " ('zinc ion binding', 859),\n",
       " ('negative regulation of transcription by RNA polymerase II', 927),\n",
       " ('sequence-specific double-stranded DNA binding', 568),\n",
       " ('perinuclear region of cytoplasm', 723),\n",
       " ('positive regulation of DNA-templated transcription', 705),\n",
       " ('apoptotic process', 591),\n",
       " ('protein-containing complex', 914),\n",
       " ('cell surface', 625)]"
      ]
     },
     "execution_count": 8,
     "metadata": {},
     "output_type": "execute_result"
    }
   ],
   "source": [
    "[(go_dict[x[0]], x[1]) for x in large]"
   ]
  },
  {
   "cell_type": "markdown",
   "id": "ecf49290-58c8-420f-b836-381eb6201674",
   "metadata": {},
   "source": [
    "Compute path lengths"
   ]
  },
  {
   "cell_type": "code",
   "execution_count": 9,
   "id": "35c96829-5a27-40c8-b56e-223d2310877a",
   "metadata": {},
   "outputs": [
    {
     "name": "stderr",
     "output_type": "stream",
     "text": [
      "100%|█████████████████████████████████████| 23212/23212 [00:04<00:00, 4836.44it/s]\n",
      "100%|████████████████████████████████████| 23212/23212 [00:00<00:00, 23687.43it/s]\n",
      "100%|█████████████████████████████████████| 37942/37942 [00:07<00:00, 4976.04it/s]\n",
      "100%|████████████████████████████████████| 37942/37942 [00:01<00:00, 25396.84it/s]\n",
      "100%|█████████████████████████████████████| 25749/25749 [00:05<00:00, 4887.39it/s]\n",
      "100%|████████████████████████████████████| 25749/25749 [00:01<00:00, 23140.58it/s]\n",
      "100%|█████████████████████████████████████| 29138/29138 [00:05<00:00, 5136.06it/s]\n",
      "100%|████████████████████████████████████| 29138/29138 [00:01<00:00, 24208.90it/s]\n"
     ]
    }
   ],
   "source": [
    "all_lengths_path = {}\n",
    "all_lengths_gene = {}\n",
    "for cl, pairs in all_pairs.items():\n",
    "    all_lengths_path[cl] = []\n",
    "    all_lengths_gene[cl] = []\n",
    "    # pathway version\n",
    "    for g1, g2 in tqdm(pairs):\n",
    "        if g1 not in pathway_graph or g2 not in pathway_graph:\n",
    "            all_lengths_path[cl].append(-1)\n",
    "            continue\n",
    "        try:\n",
    "            length = nx.shortest_path_length(pathway_graph, g1, g2)\n",
    "            all_lengths_path[cl].append(length)\n",
    "        except nx.NetworkXNoPath:\n",
    "            all_lengths_path[cl].append(-1)\n",
    "\n",
    "    # gene to gene version\n",
    "    for g1, g2 in tqdm(pairs):\n",
    "        if g1 not in gene_graph or g2 not in gene_graph:\n",
    "            all_lengths_gene[cl].append(-1)\n",
    "            continue\n",
    "        try:\n",
    "            length = nx.shortest_path_length(gene_graph, g1, g2)\n",
    "            all_lengths_gene[cl].append(length)\n",
    "        except nx.NetworkXNoPath:\n",
    "            all_lengths_gene[cl].append(-1)\n"
   ]
  },
  {
   "cell_type": "markdown",
   "id": "2f250ec8-0df4-4bbb-bd85-f4ae41fd43b1",
   "metadata": {},
   "source": [
    "## Observations"
   ]
  },
  {
   "cell_type": "markdown",
   "id": "1874b953-8e28-4c94-beb0-5fed1e85874f",
   "metadata": {},
   "source": [
    "Observation: positive pairs significantly *more* likely to interact physically"
   ]
  },
  {
   "cell_type": "code",
   "execution_count": 10,
   "id": "0a26545f-b407-4e84-bfa2-9684a69d9877",
   "metadata": {},
   "outputs": [
    {
     "name": "stdout",
     "output_type": "stream",
     "text": [
      "k562 294 448 23212\n",
      "0.094 0.022\n",
      "0.032\n",
      "\n",
      "rpe1 337 602 37942\n",
      "0.063 0.018\n",
      "0.025\n",
      "\n",
      "hepg2 269 420 25749\n",
      "0.075 0.019\n",
      "0.027\n",
      "\n",
      "jurkat 436 421 29138\n",
      "0.106 0.017\n",
      "0.029\n",
      "\n"
     ]
    }
   ],
   "source": [
    "for cl, lengths in all_lengths_gene.items():\n",
    "    pos_1 = 0\n",
    "    neg_1 = 0\n",
    "    assert len(all_labels[cl]) == len(lengths)\n",
    "    for lbl, length in zip(all_labels[cl], lengths):\n",
    "        if length == 1 and lbl == 1:\n",
    "            pos_1 += 1\n",
    "        elif length == 1 and lbl == 0:\n",
    "            neg_1 += 1\n",
    "    total = len(lengths)\n",
    "    print(cl, pos_1, neg_1, total)\n",
    "    total_pos = all_labels[cl].count(1)\n",
    "    total_neg = all_labels[cl].count(0)\n",
    "\n",
    "    # p-value\n",
    "    successes = pos_1, neg_1\n",
    "    n_obs = total_pos, total_neg\n",
    "    print(f\"{pos_1/total_pos:.3f} {neg_1/total_neg:.3f}\")\n",
    "    print(f\"{(pos_1 + neg_1)/len(all_labels[cl]):.3f}\\n\")"
   ]
  },
  {
   "cell_type": "markdown",
   "id": "b2425156-e3a7-45de-9989-fecbeb4a3afc",
   "metadata": {},
   "source": [
    "Observation: positive pairs *not* more likely to interact via network / pathway"
   ]
  },
  {
   "cell_type": "code",
   "execution_count": 11,
   "id": "73a4280f-605d-4be0-b3d8-a329cd800dfc",
   "metadata": {},
   "outputs": [
    {
     "name": "stdout",
     "output_type": "stream",
     "text": [
      "k562 669 4488 29138\n",
      "0.214 0.223\n",
      "0.222\n",
      "\n",
      "rpe1 1097 6830 29138\n",
      "0.204 0.210\n",
      "0.209\n",
      "\n",
      "hepg2 786 4888 29138\n",
      "0.218 0.221\n",
      "0.220\n",
      "\n",
      "jurkat 1044 5014 29138\n",
      "0.253 0.200\n",
      "0.208\n",
      "\n"
     ]
    }
   ],
   "source": [
    "for cl, lengths in all_lengths_path.items():\n",
    "    pos_2 = 0\n",
    "    neg_2 = 0\n",
    "    assert len(all_labels[cl]) == len(lengths)\n",
    "    for lbl, length in zip(all_labels[cl], lengths):\n",
    "        if length == 2 and lbl == 1:\n",
    "            pos_2 += 1\n",
    "        elif length == 2 and lbl == 0:\n",
    "            neg_2 += 2\n",
    "    total_pos = all_labels[cl].count(1)\n",
    "    total_neg = all_labels[cl].count(0)\n",
    "\n",
    "    # p-value\n",
    "    successes = pos_2, neg_2\n",
    "    n_obs = total_pos, total_neg\n",
    "\n",
    "    print(cl, pos_2, neg_2, total)\n",
    "    print(f\"{pos_2/total_pos:.3f} {neg_2/total_neg:.3f}\")\n",
    "    print(f\"{(pos_2 + neg_2)/len(all_labels[cl]):.3f}\\n\")"
   ]
  },
  {
   "cell_type": "markdown",
   "id": "4317476d-1b74-4ec9-b481-fa37386bbc9d",
   "metadata": {},
   "source": [
    "Observation: physical connection is minimally predictive of differential expression"
   ]
  },
  {
   "cell_type": "code",
   "execution_count": 12,
   "id": "53237221-c7a9-4edf-a09b-27b2062cf120",
   "metadata": {},
   "outputs": [
    {
     "name": "stdout",
     "output_type": "stream",
     "text": [
      "k562: 0.536\n",
      "rpe1: 0.522\n",
      "hepg2: 0.528\n",
      "jurkat: 0.544\n"
     ]
    }
   ],
   "source": [
    "for cl, lengths in all_lengths_gene.items():\n",
    "    pred = []\n",
    "    assert len(all_labels[cl]) == len(lengths)\n",
    "    for lbl, length in zip(all_labels[cl], lengths):\n",
    "        if length == 1:\n",
    "            pred.append(1)\n",
    "        else:\n",
    "            pred.append(0)\n",
    "    true = all_labels[cl]\n",
    "    auc = roc_auc_score(true, pred)\n",
    "    print(f\"{cl}: {auc:.3f}\")\n"
   ]
  },
  {
   "cell_type": "markdown",
   "id": "824b5a94-f026-4ecd-9d70-f92c86c57b79",
   "metadata": {},
   "source": [
    "Observation: size of neighborhoods grows exponentially as distance (1 vs. 2 hops depicted)"
   ]
  },
  {
   "cell_type": "code",
   "execution_count": 13,
   "id": "ad3268b2-e152-4ad8-94d1-6fe76c2daa7b",
   "metadata": {},
   "outputs": [
    {
     "data": {
      "text/plain": [
       "array([1.00e+00, 1.50e+01, 4.00e+01, 9.30e+01, 2.94e+03])"
      ]
     },
     "execution_count": 13,
     "metadata": {},
     "output_type": "execute_result"
    }
   ],
   "source": [
    "deg1 = []\n",
    "for node in gene_graph:\n",
    "    deg1.append(nx.degree(gene_graph, node))\n",
    "np.quantile(deg1, [0, .25, .5, .75, 1])"
   ]
  },
  {
   "cell_type": "code",
   "execution_count": 14,
   "id": "f6396782-d22d-47b0-adcb-526ebd2ebe73",
   "metadata": {},
   "outputs": [
    {
     "name": "stderr",
     "output_type": "stream",
     "text": [
      "100%|██████████████████████████████████████| 18479/18479 [00:25<00:00, 730.75it/s]\n"
     ]
    },
    {
     "data": {
      "text/plain": [
       "array([1.000e+00, 2.040e+03, 4.456e+03, 7.584e+03, 1.726e+04])"
      ]
     },
     "execution_count": 14,
     "metadata": {},
     "output_type": "execute_result"
    }
   ],
   "source": [
    "deg2 = []\n",
    "for node in tqdm(gene_graph):\n",
    "    neighbors = nx.neighbors(gene_graph, node)\n",
    "    neighbors_2hop = set()\n",
    "    for node2 in neighbors:\n",
    "        neighbors_2hop.update(nx.neighbors(gene_graph, node2))\n",
    "    deg2.append(len(neighbors_2hop))\n",
    "np.quantile(deg2, [0, .25, .5, .75, 1])"
   ]
  },
  {
   "cell_type": "code",
   "execution_count": 15,
   "id": "ceca219b-c2e9-4ef6-bd25-c92387584d66",
   "metadata": {},
   "outputs": [
    {
     "data": {
      "text/plain": [
       "array([1.000e+00, 2.040e+03, 4.456e+03, 7.584e+03, 1.726e+04])"
      ]
     },
     "execution_count": 15,
     "metadata": {},
     "output_type": "execute_result"
    }
   ],
   "source": [
    "np.quantile(deg2, [0, .25, .5, .75, 1])"
   ]
  }
 ],
 "metadata": {
  "kernelspec": {
   "display_name": "Python 3 (ipykernel)",
   "language": "python",
   "name": "python3"
  },
  "language_info": {
   "codemirror_mode": {
    "name": "ipython",
    "version": 3
   },
   "file_extension": ".py",
   "mimetype": "text/x-python",
   "name": "python",
   "nbconvert_exporter": "python",
   "pygments_lexer": "ipython3",
   "version": "3.10.0"
  }
 },
 "nbformat": 4,
 "nbformat_minor": 5
}
